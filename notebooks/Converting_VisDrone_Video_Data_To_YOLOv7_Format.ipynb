{
  "cells": [
    {
      "cell_type": "markdown",
      "metadata": {
        "id": "gwP0etGAUsw6"
      },
      "source": [
        "## Step-1: Mount Google Drive"
      ]
    },
    {
      "cell_type": "code",
      "execution_count": null,
      "metadata": {
        "colab": {
          "base_uri": "https://localhost:8080/"
        },
        "id": "poc3oJ1uUac_",
        "outputId": "2c953d9f-3861-456b-9055-6f291c97ebd2"
      },
      "outputs": [
        {
          "name": "stdout",
          "output_type": "stream",
          "text": [
            "Mounted at /content/drive\n"
          ]
        }
      ],
      "source": [
        "from google.colab import drive\n",
        "drive.mount('/content/drive')"
      ]
    },
    {
      "cell_type": "markdown",
      "metadata": {
        "id": "EiGmihcNVPCA"
      },
      "source": [
        "## Step-2: Download VisDrone Video dataset from Google Drive"
      ]
    },
    {
      "cell_type": "code",
      "execution_count": null,
      "metadata": {
        "colab": {
          "base_uri": "https://localhost:8080/"
        },
        "id": "LvSiCdjPU6I-",
        "outputId": "d4e0aa75-9525-47f1-9bd4-40cdc7774493"
      },
      "outputs": [
        {
          "name": "stderr",
          "output_type": "stream",
          "text": [
            "IOPub data rate exceeded.\n",
            "The notebook server will temporarily stop sending output\n",
            "to the client in order to avoid crashing it.\n",
            "To change this limit, set the config variable\n",
            "`--NotebookApp.iopub_data_rate_limit`.\n",
            "\n",
            "Current values:\n",
            "NotebookApp.iopub_data_rate_limit=1000000.0 (bytes/sec)\n",
            "NotebookApp.rate_limit_window=3.0 (secs)\n",
            "\n"
          ]
        },
        {
          "name": "stdout",
          "output_type": "stream",
          "text": [
            "CPU times: user 3.39 s, sys: 727 ms, total: 4.12 s\n",
            "Wall time: 2min 46s\n"
          ]
        }
      ],
      "source": [
        "%%time\n",
        "%%bash\n",
        "if [ -d VisDroneVideo ]\n",
        "then\n",
        "  echo \"data already exists\"\n",
        "else \n",
        "  mkdir -p VisDroneVideo\n",
        "  unzip -d VisDroneVideo drive/MyDrive/Deepak/FourthBrain/MLOps_Course/CapstoneProject/TrainYOLOv7/data/video_data/VisDrone2019-VID-val.zip\n",
        "  unzip -d VisDroneVideo drive/MyDrive/Deepak/FourthBrain/MLOps_Course/CapstoneProject/TrainYOLOv7/data/video_data/VisDrone2019-VID-test-dev.zip\n",
        "  unzip -d VisDroneVideo drive/MyDrive/Deepak/FourthBrain/MLOps_Course/CapstoneProject/TrainYOLOv7/data/video_data/VisDrone2019-VID-train.zip\n",
        "  # unzip -d VisDroneVideo drive/MyDrive/Deepak/FourthBrain/MLOps_Course/CapstoneProject/TrainYOLOv7/data/video_data/VisDrone2019-VID-test-challenge.zip\n",
        "fi"
      ]
    },
    {
      "cell_type": "markdown",
      "metadata": {},
      "source": [
        "## Step-3: Clone the GIT Repository"
      ]
    },
    {
      "cell_type": "code",
      "execution_count": null,
      "metadata": {},
      "outputs": [],
      "source": [
        "!git clone https://github.com/dnautiyal/MLOps4-Capstone.git"
      ]
    },
    {
      "cell_type": "markdown",
      "metadata": {
        "id": "ef9Vlh9oZnsB"
      },
      "source": [
        "## Step-4: Convert to Visdrone-Video-YOLO format\n",
        "\n"
      ]
    },
    {
      "cell_type": "code",
      "execution_count": null,
      "metadata": {
        "id": "Ck14lg8IT2GL"
      },
      "outputs": [],
      "source": [
        "#! rm -r /content/VisDroneVideo"
      ]
    },
    {
      "cell_type": "code",
      "execution_count": null,
      "metadata": {
        "id": "fm43-FbO9S7u"
      },
      "outputs": [],
      "source": [
        "!python /content/MLOps4-Capstone/src/yolo_data_utils/convert_visdrone_VID_data_to_yolov7.py --output_image_size \"(960, 544)\""
      ]
    },
    {
      "cell_type": "code",
      "execution_count": null,
      "metadata": {
        "id": "mfbqtWxjE1in"
      },
      "outputs": [],
      "source": [
        "%%time\n",
        "%%bash\n",
        "cd /content/VisDroneVideo/VisDrone2019-VID-YOLOv7\n",
        "zip -r 'VisDrone2019-VID-YOLOv7.zip' *"
      ]
    },
    {
      "cell_type": "code",
      "execution_count": null,
      "metadata": {
        "id": "gLzL5QvTFG5F"
      },
      "outputs": [],
      "source": [
        "!cp \"/content/VisDroneVideo/VisDrone2019-VID-YOLOv7/VisDrone2019-VID-YOLOv7.zip\" \"/content/drive/MyDrive/Deepak/FourthBrain/MLOps_Course/CapstoneProject/TrainYOLOv7/data/video_data/YOLOv7\""
      ]
    },
    {
      "cell_type": "markdown",
      "metadata": {},
      "source": [
        "## Step-5: Validate that the new YOLO-type annotations computed on resized/transformed images are correct"
      ]
    },
    {
      "cell_type": "code",
      "execution_count": null,
      "metadata": {},
      "outputs": [],
      "source": [
        "!rm -r /content/YOLOv7_VID_Annotated_Images/*"
      ]
    },
    {
      "cell_type": "code",
      "execution_count": null,
      "metadata": {
        "id": "yAVWsMoDnEa7"
      },
      "outputs": [],
      "source": [
        "!python /content/MLOps4-Capstone/src/yolo_data_utils/yolo_draw_annotation_box.py --label_folder './VisDroneVideo/VisDrone2019-VID-YOLOv7/val/labels' --raw_images_folder './VisDroneVideo/VisDrone2019-VID-YOLOv7/val/images' --save_images_folder './YOLOv7_VID_Annotated_Images/' "
      ]
    },
    {
      "cell_type": "code",
      "execution_count": null,
      "metadata": {
        "id": "woSGp3368CIP"
      },
      "outputs": [],
      "source": [
        "%%time\n",
        "%%bash\n",
        "zip -r 'VisDrone2019-VID-YOLOv7-Annotated_Images_Test.zip' '/content/YOLOv7_VID_Annotated_Images'"
      ]
    },
    {
      "cell_type": "code",
      "execution_count": null,
      "metadata": {
        "id": "bnSgkUOZ9jbb"
      },
      "outputs": [],
      "source": [
        "!cp \"/content/VisDrone2019-VID-YOLOv7-Annotated_Images_Test.zip\" \"/content/drive/MyDrive/Deepak/FourthBrain/MLOps_Course/CapstoneProject/TrainYOLOv7/data/video_data/YOLOv7\""
      ]
    },
    {
      "cell_type": "markdown",
      "metadata": {
        "id": "NAnxY4zDf1Le"
      },
      "source": []
    }
  ],
  "metadata": {
    "colab": {
      "collapsed_sections": [],
      "provenance": []
    },
    "gpuClass": "premium",
    "kernelspec": {
      "display_name": "Python 3.8.13 ('mlops-course')",
      "language": "python",
      "name": "python3"
    },
    "language_info": {
      "name": "python",
      "version": "3.8.13"
    },
    "vscode": {
      "interpreter": {
        "hash": "620471c4a35ea1d37dbb0b9997e7291b4a9dc1c0e683a9b116d994aa523af298"
      }
    }
  },
  "nbformat": 4,
  "nbformat_minor": 0
}
